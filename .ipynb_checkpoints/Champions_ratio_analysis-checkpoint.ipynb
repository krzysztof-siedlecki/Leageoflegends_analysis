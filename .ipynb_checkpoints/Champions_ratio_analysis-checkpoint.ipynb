{
 "cells": [
  {
   "cell_type": "code",
   "execution_count": 1,
   "id": "bf09d6bd",
   "metadata": {},
   "outputs": [],
   "source": [
    "import pandas as pd\n",
    "import numpy as np\n",
    "import matplotlib.pyplot as plt\n",
    "%matplotlib inline "
   ]
  },
  {
   "cell_type": "code",
   "execution_count": 2,
   "id": "482cf0e1",
   "metadata": {},
   "outputs": [],
   "source": [
    "df = pd.read_csv('LeagueofLegends.csv')\n",
    "#df_bans = pd.read_csv('bans.csv')\n",
    "#df_gold = pd.read_csv('gold.csv')\n",
    "#df_kills = pd.read_csv('kills.csv')\n",
    "#df_matchinfo = pd.read_csv('matchinfo.csv')\n",
    "#df_monsters = pd.read_csv('monsters.csv')\n",
    "#df_structures = pd.read_csv('structures.csv')"
   ]
  },
  {
   "cell_type": "code",
   "execution_count": 3,
   "id": "0f041e98",
   "metadata": {
    "scrolled": true
   },
   "outputs": [
    {
     "data": {
      "text/plain": [
       "(7620, 57)"
      ]
     },
     "execution_count": 3,
     "metadata": {},
     "output_type": "execute_result"
    }
   ],
   "source": [
    "df.shape"
   ]
  },
  {
   "cell_type": "code",
   "execution_count": 4,
   "id": "a4552ee1",
   "metadata": {},
   "outputs": [],
   "source": [
    "#df_bans.shape"
   ]
  },
  {
   "cell_type": "code",
   "execution_count": 5,
   "id": "dcf8630a",
   "metadata": {},
   "outputs": [],
   "source": [
    "#df_gold.shape"
   ]
  },
  {
   "cell_type": "code",
   "execution_count": 6,
   "id": "c0854cf9",
   "metadata": {},
   "outputs": [],
   "source": [
    "#df_kills.shape"
   ]
  },
  {
   "cell_type": "code",
   "execution_count": 7,
   "id": "276f6bb6",
   "metadata": {},
   "outputs": [],
   "source": [
    "#df_matchinfo.shape"
   ]
  },
  {
   "cell_type": "code",
   "execution_count": 8,
   "id": "3561196d",
   "metadata": {},
   "outputs": [],
   "source": [
    "#df_monsters.shape"
   ]
  },
  {
   "cell_type": "code",
   "execution_count": 9,
   "id": "37e423fe",
   "metadata": {},
   "outputs": [],
   "source": [
    "#df_structures.shape"
   ]
  },
  {
   "cell_type": "code",
   "execution_count": 10,
   "id": "9aa3a1f1",
   "metadata": {},
   "outputs": [
    {
     "data": {
      "text/plain": [
       "Index(['League', 'Year', 'Season', 'Type', 'blueTeamTag', 'bResult', 'rResult',\n",
       "       'redTeamTag', 'gamelength', 'golddiff', 'goldblue', 'bKills', 'bTowers',\n",
       "       'bInhibs', 'bDragons', 'bBarons', 'bHeralds', 'goldred', 'rKills',\n",
       "       'rTowers', 'rInhibs', 'rDragons', 'rBarons', 'rHeralds', 'blueTop',\n",
       "       'blueTopChamp', 'goldblueTop', 'blueJungle', 'blueJungleChamp',\n",
       "       'goldblueJungle', 'blueMiddle', 'blueMiddleChamp', 'goldblueMiddle',\n",
       "       'blueADC', 'blueADCChamp', 'goldblueADC', 'blueSupport',\n",
       "       'blueSupportChamp', 'goldblueSupport', 'blueBans', 'redTop',\n",
       "       'redTopChamp', 'goldredTop', 'redJungle', 'redJungleChamp',\n",
       "       'goldredJungle', 'redMiddle', 'redMiddleChamp', 'goldredMiddle',\n",
       "       'redADC', 'redADCChamp', 'goldredADC', 'redSupport', 'redSupportChamp',\n",
       "       'goldredSupport', 'redBans', 'Address'],\n",
       "      dtype='object')"
      ]
     },
     "execution_count": 10,
     "metadata": {},
     "output_type": "execute_result"
    }
   ],
   "source": [
    "df.columns"
   ]
  },
  {
   "cell_type": "code",
   "execution_count": 11,
   "id": "9486f6ea",
   "metadata": {},
   "outputs": [
    {
     "name": "stdout",
     "output_type": "stream",
     "text": [
      "bResult    4146\n",
      "dtype: int64\n",
      "rResult    3474\n",
      "dtype: int64\n"
     ]
    }
   ],
   "source": [
    "#bResult -> Blue wins\n",
    "#rResult -> Red wins\n",
    "Blue_wins = df[[\"bResult\"]].sum()\n",
    "Red_wins = df[[\"rResult\"]].sum()\n",
    "\n",
    "print(Blue_wins)\n",
    "print(Red_wins)"
   ]
  },
  {
   "cell_type": "code",
   "execution_count": 12,
   "id": "64bc1cf9",
   "metadata": {},
   "outputs": [
    {
     "name": "stdout",
     "output_type": "stream",
     "text": [
      "The blues win more often by: 1.1934369602763386\n"
     ]
    }
   ],
   "source": [
    "print(\"The blues win more often by:\",Blue_wins.sum() / Red_wins.sum())\n",
    "\n",
    "#The blues win more often by 1.1934369602763386 times"
   ]
  },
  {
   "cell_type": "code",
   "execution_count": 13,
   "id": "03b5638e",
   "metadata": {
    "scrolled": true
   },
   "outputs": [
    {
     "data": {
      "image/png": "[encoded data removed]",
      "text/plain": [
       "<Figure size 1000x500 with 1 Axes>"
      ]
     },
     "metadata": {},
     "output_type": "display_data"
    }
   ],
   "source": [
    "fig = plt.figure(figsize = (10, 5))\n",
    "ax = fig.add_axes([0,0,1,1])\n",
    "Teams = ['Blue', 'Red']\n",
    "Values = [df.bResult.sum(), df.rResult.sum()]\n",
    "bar = ax.bar(Teams, Values)\n",
    "bar[1].set_color('r')\n",
    "plt.show()"
   ]
  },
  {
   "cell_type": "markdown",
   "id": "ab3e2df9",
   "metadata": {},
   "source": [
    "# Top Lane analysis"
   ]
  },
  {
   "cell_type": "code",
   "execution_count": 14,
   "id": "1c044e5b",
   "metadata": {},
   "outputs": [
    {
     "data": {
      "text/html": [
       "<div>\n",
       "<style scoped>\n",
       "    .dataframe tbody tr th:only-of-type {\n",
       "        vertical-align: middle;\n",
       "    }\n",
       "\n",
       "    .dataframe tbody tr th {\n",
       "        vertical-align: top;\n",
       "    }\n",
       "\n",
       "    .dataframe thead th {\n",
       "        text-align: right;\n",
       "    }\n",
       "</style>\n",
       "<table border=\"1\" class=\"dataframe\">\n",
       "  <thead>\n",
       "    <tr style=\"text-align: right;\">\n",
       "      <th></th>\n",
       "      <th>bResult</th>\n",
       "    </tr>\n",
       "    <tr>\n",
       "      <th>blueTopChamp</th>\n",
       "      <th></th>\n",
       "    </tr>\n",
       "  </thead>\n",
       "  <tbody>\n",
       "    <tr>\n",
       "      <th>Maokai</th>\n",
       "      <td>464</td>\n",
       "    </tr>\n",
       "    <tr>\n",
       "      <th>Shen</th>\n",
       "      <td>344</td>\n",
       "    </tr>\n",
       "    <tr>\n",
       "      <th>Gnar</th>\n",
       "      <td>340</td>\n",
       "    </tr>\n",
       "    <tr>\n",
       "      <th>Rumble</th>\n",
       "      <td>332</td>\n",
       "    </tr>\n",
       "    <tr>\n",
       "      <th>Poppy</th>\n",
       "      <td>215</td>\n",
       "    </tr>\n",
       "    <tr>\n",
       "      <th>...</th>\n",
       "      <td>...</td>\n",
       "    </tr>\n",
       "    <tr>\n",
       "      <th>Katarina</th>\n",
       "      <td>0</td>\n",
       "    </tr>\n",
       "    <tr>\n",
       "      <th>Warwick</th>\n",
       "      <td>0</td>\n",
       "    </tr>\n",
       "    <tr>\n",
       "      <th>Diana</th>\n",
       "      <td>0</td>\n",
       "    </tr>\n",
       "    <tr>\n",
       "      <th>Blitzcrank</th>\n",
       "      <td>0</td>\n",
       "    </tr>\n",
       "    <tr>\n",
       "      <th>Bard</th>\n",
       "      <td>0</td>\n",
       "    </tr>\n",
       "  </tbody>\n",
       "</table>\n",
       "<p>78 rows × 1 columns</p>\n",
       "</div>"
      ],
      "text/plain": [
       "              bResult\n",
       "blueTopChamp         \n",
       "Maokai            464\n",
       "Shen              344\n",
       "Gnar              340\n",
       "Rumble            332\n",
       "Poppy             215\n",
       "...               ...\n",
       "Katarina            0\n",
       "Warwick             0\n",
       "Diana               0\n",
       "Blitzcrank          0\n",
       "Bard                0\n",
       "\n",
       "[78 rows x 1 columns]"
      ]
     },
     "execution_count": 14,
     "metadata": {},
     "output_type": "execute_result"
    }
   ],
   "source": [
    "df[['blueTopChamp','bResult']].groupby(['blueTopChamp']).agg('sum').sort_values(by='bResult',ascending=False)"
   ]
  },
  {
   "cell_type": "code",
   "execution_count": 15,
   "id": "985d79a1",
   "metadata": {
    "scrolled": true
   },
   "outputs": [
    {
     "name": "stdout",
     "output_type": "stream",
     "text": [
      "['Akali', 'Alistar', 'Azir', 'Bard', 'Blitzcrank', 'Camille', 'Cassiopeia', 'Chogath', 'Darius', 'Diana', 'DrMundo', 'Ekko', 'Fiora', 'Fizz', 'Galio', 'Gangplank', 'Gnar', 'Gragas', 'Graves', 'Hecarim', 'Illaoi', 'Irelia', 'JarvanIV', 'Jax', 'Jayce', 'Karma', 'Kassadin', 'Katarina', 'Kayle', 'Kennen', 'Khazix', 'Kled', 'LeeSin', 'Lissandra', 'Lucian', 'Lulu', 'Malphite', 'Malzahar', 'Maokai', 'Mordekaiser', 'Morgana', 'Nasus', 'Nautilus', 'Nidalee', 'Nocturne', 'Nunu', 'Olaf', 'Ornn', 'Pantheon', 'Poppy', 'Quinn', 'Rammus', 'RekSai', 'Renekton', 'Rengar', 'Riven', 'Rumble', 'Ryze', 'Sejuani', 'Shen', 'Shyvana', 'Singed', 'Sion', 'Swain', 'TahmKench', 'Taliyah', 'Talon', 'Teemo', 'Trundle', 'Urgot', 'Varus', 'Vladimir', 'Warwick', 'XinZhao', 'Yasuo', 'Yorick', 'Zac', 'Zed']\n"
     ]
    }
   ],
   "source": [
    "sortedbt = df['blueTopChamp'].unique()\n",
    "#sorting champions top lane champions to check if all names are correct \n",
    "print(sorted(sortedbt))"
   ]
  },
  {
   "cell_type": "code",
   "execution_count": 16,
   "id": "1428165f",
   "metadata": {
    "scrolled": false
   },
   "outputs": [
    {
     "data": {
      "text/html": [
       "<div>\n",
       "<style scoped>\n",
       "    .dataframe tbody tr th:only-of-type {\n",
       "        vertical-align: middle;\n",
       "    }\n",
       "\n",
       "    .dataframe tbody tr th {\n",
       "        vertical-align: top;\n",
       "    }\n",
       "\n",
       "    .dataframe thead th {\n",
       "        text-align: right;\n",
       "    }\n",
       "</style>\n",
       "<table border=\"1\" class=\"dataframe\">\n",
       "  <thead>\n",
       "    <tr style=\"text-align: right;\">\n",
       "      <th></th>\n",
       "      <th>bResult</th>\n",
       "    </tr>\n",
       "    <tr>\n",
       "      <th>blueTopChamp</th>\n",
       "      <th></th>\n",
       "    </tr>\n",
       "  </thead>\n",
       "  <tbody>\n",
       "    <tr>\n",
       "      <th>Maokai</th>\n",
       "      <td>464</td>\n",
       "    </tr>\n",
       "    <tr>\n",
       "      <th>Shen</th>\n",
       "      <td>344</td>\n",
       "    </tr>\n",
       "    <tr>\n",
       "      <th>Gnar</th>\n",
       "      <td>340</td>\n",
       "    </tr>\n",
       "    <tr>\n",
       "      <th>Rumble</th>\n",
       "      <td>332</td>\n",
       "    </tr>\n",
       "    <tr>\n",
       "      <th>Poppy</th>\n",
       "      <td>215</td>\n",
       "    </tr>\n",
       "    <tr>\n",
       "      <th>...</th>\n",
       "      <td>...</td>\n",
       "    </tr>\n",
       "    <tr>\n",
       "      <th>Katarina</th>\n",
       "      <td>0</td>\n",
       "    </tr>\n",
       "    <tr>\n",
       "      <th>Warwick</th>\n",
       "      <td>0</td>\n",
       "    </tr>\n",
       "    <tr>\n",
       "      <th>Diana</th>\n",
       "      <td>0</td>\n",
       "    </tr>\n",
       "    <tr>\n",
       "      <th>Blitzcrank</th>\n",
       "      <td>0</td>\n",
       "    </tr>\n",
       "    <tr>\n",
       "      <th>Bard</th>\n",
       "      <td>0</td>\n",
       "    </tr>\n",
       "  </tbody>\n",
       "</table>\n",
       "<p>78 rows × 1 columns</p>\n",
       "</div>"
      ],
      "text/plain": [
       "              bResult\n",
       "blueTopChamp         \n",
       "Maokai            464\n",
       "Shen              344\n",
       "Gnar              340\n",
       "Rumble            332\n",
       "Poppy             215\n",
       "...               ...\n",
       "Katarina            0\n",
       "Warwick             0\n",
       "Diana               0\n",
       "Blitzcrank          0\n",
       "Bard                0\n",
       "\n",
       "[78 rows x 1 columns]"
      ]
     },
     "execution_count": 16,
     "metadata": {},
     "output_type": "execute_result"
    }
   ],
   "source": [
    "#how many champions have no wins\n",
    "blueTopChamp_sorted = df[['blueTopChamp','bResult']].groupby(['blueTopChamp']).agg('sum').sort_values(by='bResult',ascending=False)\n",
    "blueTopChamp_sorted"
   ]
  },
  {
   "cell_type": "code",
   "execution_count": 17,
   "id": "5af16e0d",
   "metadata": {
    "scrolled": true
   },
   "outputs": [
    {
     "data": {
      "text/html": [
       "<div>\n",
       "<style scoped>\n",
       "    .dataframe tbody tr th:only-of-type {\n",
       "        vertical-align: middle;\n",
       "    }\n",
       "\n",
       "    .dataframe tbody tr th {\n",
       "        vertical-align: top;\n",
       "    }\n",
       "\n",
       "    .dataframe thead th {\n",
       "        text-align: right;\n",
       "    }\n",
       "</style>\n",
       "<table border=\"1\" class=\"dataframe\">\n",
       "  <thead>\n",
       "    <tr style=\"text-align: right;\">\n",
       "      <th></th>\n",
       "      <th>blueTopChamp</th>\n",
       "      <th>bResult</th>\n",
       "    </tr>\n",
       "  </thead>\n",
       "  <tbody>\n",
       "    <tr>\n",
       "      <th>0</th>\n",
       "      <td>Maokai</td>\n",
       "      <td>827</td>\n",
       "    </tr>\n",
       "    <tr>\n",
       "      <th>1</th>\n",
       "      <td>Shen</td>\n",
       "      <td>657</td>\n",
       "    </tr>\n",
       "    <tr>\n",
       "      <th>2</th>\n",
       "      <td>Gnar</td>\n",
       "      <td>625</td>\n",
       "    </tr>\n",
       "    <tr>\n",
       "      <th>3</th>\n",
       "      <td>Rumble</td>\n",
       "      <td>571</td>\n",
       "    </tr>\n",
       "    <tr>\n",
       "      <th>4</th>\n",
       "      <td>Nautilus</td>\n",
       "      <td>400</td>\n",
       "    </tr>\n",
       "    <tr>\n",
       "      <th>...</th>\n",
       "      <td>...</td>\n",
       "      <td>...</td>\n",
       "    </tr>\n",
       "    <tr>\n",
       "      <th>73</th>\n",
       "      <td>XinZhao</td>\n",
       "      <td>1</td>\n",
       "    </tr>\n",
       "    <tr>\n",
       "      <th>74</th>\n",
       "      <td>Diana</td>\n",
       "      <td>1</td>\n",
       "    </tr>\n",
       "    <tr>\n",
       "      <th>75</th>\n",
       "      <td>Blitzcrank</td>\n",
       "      <td>1</td>\n",
       "    </tr>\n",
       "    <tr>\n",
       "      <th>76</th>\n",
       "      <td>Bard</td>\n",
       "      <td>1</td>\n",
       "    </tr>\n",
       "    <tr>\n",
       "      <th>77</th>\n",
       "      <td>Zed</td>\n",
       "      <td>1</td>\n",
       "    </tr>\n",
       "  </tbody>\n",
       "</table>\n",
       "<p>78 rows × 2 columns</p>\n",
       "</div>"
      ],
      "text/plain": [
       "   blueTopChamp  bResult\n",
       "0        Maokai      827\n",
       "1          Shen      657\n",
       "2          Gnar      625\n",
       "3        Rumble      571\n",
       "4      Nautilus      400\n",
       "..          ...      ...\n",
       "73      XinZhao        1\n",
       "74        Diana        1\n",
       "75   Blitzcrank        1\n",
       "76         Bard        1\n",
       "77          Zed        1\n",
       "\n",
       "[78 rows x 2 columns]"
      ]
     },
     "execution_count": 17,
     "metadata": {},
     "output_type": "execute_result"
    }
   ],
   "source": [
    "#checking how many times champions were picked \n",
    "blue_top_pics = (\n",
    "    df[['blueTopChamp','bResult']]\n",
    "    .groupby(['blueTopChamp'])\n",
    "    .count()\n",
    "    .sort_values(by='bResult', ascending=False)\n",
    "    .reset_index()\n",
    ")\n",
    "blue_top_pics"
   ]
  },
  {
   "cell_type": "code",
   "execution_count": 18,
   "id": "ad651ad2",
   "metadata": {},
   "outputs": [
    {
     "data": {
      "text/plain": [
       "5654"
      ]
     },
     "execution_count": 18,
     "metadata": {},
     "output_type": "execute_result"
    }
   ],
   "source": [
    "#checking pareto rule where 20% makes 80% of work\n",
    "top20prc = int(0.2 * blue_top_pics['bResult'].count())\n",
    "blue_top_most_picks = df.groupby([\"blueTopChamp\"]).size().nlargest(top20prc)\n",
    "blue_top_most_picks.sum()"
   ]
  },
  {
   "cell_type": "code",
   "execution_count": 19,
   "id": "2c2d9fa0",
   "metadata": {
    "scrolled": true
   },
   "outputs": [
    {
     "data": {
      "text/plain": [
       "0.7419947506561679"
      ]
     },
     "execution_count": 19,
     "metadata": {},
     "output_type": "execute_result"
    }
   ],
   "source": [
    "#20% of most pics on top lane are generating nearlt 75% pics on top\n",
    "blue_top_most_picks.sum() / int(blue_top_pics['bResult'].sum())"
   ]
  },
  {
   "cell_type": "code",
   "execution_count": 20,
   "id": "9c996db5",
   "metadata": {},
   "outputs": [
    {
     "data": {
      "text/plain": [
       "bResult    11\n",
       "dtype: int64"
      ]
     },
     "execution_count": 20,
     "metadata": {},
     "output_type": "execute_result"
    }
   ],
   "source": [
    "top_pick_without_wins = blueTopChamp_sorted[blueTopChamp_sorted==0].count()\n",
    "top_pick_without_wins\n",
    "#there are 11 champs that haven't won any match"
   ]
  },
  {
   "cell_type": "code",
   "execution_count": 21,
   "id": "8fe92699",
   "metadata": {
    "scrolled": false
   },
   "outputs": [
    {
     "data": {
      "text/html": [
       "<div>\n",
       "<style scoped>\n",
       "    .dataframe tbody tr th:only-of-type {\n",
       "        vertical-align: middle;\n",
       "    }\n",
       "\n",
       "    .dataframe tbody tr th {\n",
       "        vertical-align: top;\n",
       "    }\n",
       "\n",
       "    .dataframe thead th {\n",
       "        text-align: right;\n",
       "    }\n",
       "</style>\n",
       "<table border=\"1\" class=\"dataframe\">\n",
       "  <thead>\n",
       "    <tr style=\"text-align: right;\">\n",
       "      <th></th>\n",
       "      <th>Blue Top Picks</th>\n",
       "    </tr>\n",
       "    <tr>\n",
       "      <th>blueTopChamp</th>\n",
       "      <th></th>\n",
       "    </tr>\n",
       "  </thead>\n",
       "  <tbody>\n",
       "    <tr>\n",
       "      <th>Maokai</th>\n",
       "      <td>827</td>\n",
       "    </tr>\n",
       "    <tr>\n",
       "      <th>Shen</th>\n",
       "      <td>657</td>\n",
       "    </tr>\n",
       "    <tr>\n",
       "      <th>Gnar</th>\n",
       "      <td>625</td>\n",
       "    </tr>\n",
       "    <tr>\n",
       "      <th>Rumble</th>\n",
       "      <td>571</td>\n",
       "    </tr>\n",
       "    <tr>\n",
       "      <th>Nautilus</th>\n",
       "      <td>400</td>\n",
       "    </tr>\n",
       "    <tr>\n",
       "      <th>Poppy</th>\n",
       "      <td>386</td>\n",
       "    </tr>\n",
       "    <tr>\n",
       "      <th>Trundle</th>\n",
       "      <td>329</td>\n",
       "    </tr>\n",
       "    <tr>\n",
       "      <th>Renekton</th>\n",
       "      <td>307</td>\n",
       "    </tr>\n",
       "    <tr>\n",
       "      <th>Fiora</th>\n",
       "      <td>247</td>\n",
       "    </tr>\n",
       "    <tr>\n",
       "      <th>JarvanIV</th>\n",
       "      <td>237</td>\n",
       "    </tr>\n",
       "    <tr>\n",
       "      <th>Camille</th>\n",
       "      <td>221</td>\n",
       "    </tr>\n",
       "    <tr>\n",
       "      <th>Gragas</th>\n",
       "      <td>216</td>\n",
       "    </tr>\n",
       "    <tr>\n",
       "      <th>Irelia</th>\n",
       "      <td>214</td>\n",
       "    </tr>\n",
       "    <tr>\n",
       "      <th>Gangplank</th>\n",
       "      <td>212</td>\n",
       "    </tr>\n",
       "    <tr>\n",
       "      <th>Ekko</th>\n",
       "      <td>205</td>\n",
       "    </tr>\n",
       "  </tbody>\n",
       "</table>\n",
       "</div>"
      ],
      "text/plain": [
       "              Blue Top Picks\n",
       "blueTopChamp                \n",
       "Maokai                   827\n",
       "Shen                     657\n",
       "Gnar                     625\n",
       "Rumble                   571\n",
       "Nautilus                 400\n",
       "Poppy                    386\n",
       "Trundle                  329\n",
       "Renekton                 307\n",
       "Fiora                    247\n",
       "JarvanIV                 237\n",
       "Camille                  221\n",
       "Gragas                   216\n",
       "Irelia                   214\n",
       "Gangplank                212\n",
       "Ekko                     205"
      ]
     },
     "execution_count": 21,
     "metadata": {},
     "output_type": "execute_result"
    },
    {
     "data": {
      "image/png": "[encoded data removed]",
      "text/plain": [
       "<Figure size 640x480 with 1 Axes>"
      ]
     },
     "metadata": {},
     "output_type": "display_data"
    }
   ],
   "source": [
    "df_blue_top_champions = pd.DataFrame({\"Blue Top Picks\":blue_top_most_picks})\n",
    "df_blue_top_champions.plot.bar(color={\"blue\"})\n",
    "df_blue_top_champions"
   ]
  },
  {
   "cell_type": "code",
   "execution_count": 22,
   "id": "3a4b3f84",
   "metadata": {},
   "outputs": [
    {
     "data": {
      "text/html": [
       "<div>\n",
       "<style scoped>\n",
       "    .dataframe tbody tr th:only-of-type {\n",
       "        vertical-align: middle;\n",
       "    }\n",
       "\n",
       "    .dataframe tbody tr th {\n",
       "        vertical-align: top;\n",
       "    }\n",
       "\n",
       "    .dataframe thead th {\n",
       "        text-align: right;\n",
       "    }\n",
       "</style>\n",
       "<table border=\"1\" class=\"dataframe\">\n",
       "  <thead>\n",
       "    <tr style=\"text-align: right;\">\n",
       "      <th></th>\n",
       "      <th>redTopChamp</th>\n",
       "      <th>rResult</th>\n",
       "    </tr>\n",
       "  </thead>\n",
       "  <tbody>\n",
       "    <tr>\n",
       "      <th>0</th>\n",
       "      <td>Maokai</td>\n",
       "      <td>880</td>\n",
       "    </tr>\n",
       "    <tr>\n",
       "      <th>1</th>\n",
       "      <td>Gnar</td>\n",
       "      <td>665</td>\n",
       "    </tr>\n",
       "    <tr>\n",
       "      <th>2</th>\n",
       "      <td>Shen</td>\n",
       "      <td>604</td>\n",
       "    </tr>\n",
       "    <tr>\n",
       "      <th>3</th>\n",
       "      <td>Rumble</td>\n",
       "      <td>526</td>\n",
       "    </tr>\n",
       "    <tr>\n",
       "      <th>4</th>\n",
       "      <td>Nautilus</td>\n",
       "      <td>396</td>\n",
       "    </tr>\n",
       "    <tr>\n",
       "      <th>...</th>\n",
       "      <td>...</td>\n",
       "      <td>...</td>\n",
       "    </tr>\n",
       "    <tr>\n",
       "      <th>76</th>\n",
       "      <td>Viktor</td>\n",
       "      <td>1</td>\n",
       "    </tr>\n",
       "    <tr>\n",
       "      <th>77</th>\n",
       "      <td>Heimerdinger</td>\n",
       "      <td>1</td>\n",
       "    </tr>\n",
       "    <tr>\n",
       "      <th>78</th>\n",
       "      <td>MonkeyKing</td>\n",
       "      <td>1</td>\n",
       "    </tr>\n",
       "    <tr>\n",
       "      <th>79</th>\n",
       "      <td>Kayn</td>\n",
       "      <td>1</td>\n",
       "    </tr>\n",
       "    <tr>\n",
       "      <th>80</th>\n",
       "      <td>MasterYi</td>\n",
       "      <td>1</td>\n",
       "    </tr>\n",
       "  </tbody>\n",
       "</table>\n",
       "<p>81 rows × 2 columns</p>\n",
       "</div>"
      ],
      "text/plain": [
       "     redTopChamp  rResult\n",
       "0         Maokai      880\n",
       "1           Gnar      665\n",
       "2           Shen      604\n",
       "3         Rumble      526\n",
       "4       Nautilus      396\n",
       "..           ...      ...\n",
       "76        Viktor        1\n",
       "77  Heimerdinger        1\n",
       "78    MonkeyKing        1\n",
       "79          Kayn        1\n",
       "80      MasterYi        1\n",
       "\n",
       "[81 rows x 2 columns]"
      ]
     },
     "execution_count": 22,
     "metadata": {},
     "output_type": "execute_result"
    }
   ],
   "source": [
    "red_top_pics = (\n",
    "    df[['redTopChamp','rResult']]\n",
    "    .groupby(['redTopChamp'])\n",
    "    .count()\n",
    "    .sort_values(by='rResult', ascending=False)\n",
    "    .reset_index()\n",
    ")\n",
    "red_top_pics"
   ]
  },
  {
   "cell_type": "code",
   "execution_count": 23,
   "id": "6caab61e",
   "metadata": {
    "scrolled": true
   },
   "outputs": [
    {
     "data": {
      "text/html": [
       "<div>\n",
       "<style scoped>\n",
       "    .dataframe tbody tr th:only-of-type {\n",
       "        vertical-align: middle;\n",
       "    }\n",
       "\n",
       "    .dataframe tbody tr th {\n",
       "        vertical-align: top;\n",
       "    }\n",
       "\n",
       "    .dataframe thead th {\n",
       "        text-align: right;\n",
       "    }\n",
       "</style>\n",
       "<table border=\"1\" class=\"dataframe\">\n",
       "  <thead>\n",
       "    <tr style=\"text-align: right;\">\n",
       "      <th></th>\n",
       "      <th>rResult</th>\n",
       "    </tr>\n",
       "    <tr>\n",
       "      <th>redTopChamp</th>\n",
       "      <th></th>\n",
       "    </tr>\n",
       "  </thead>\n",
       "  <tbody>\n",
       "    <tr>\n",
       "      <th>Maokai</th>\n",
       "      <td>411</td>\n",
       "    </tr>\n",
       "    <tr>\n",
       "      <th>Gnar</th>\n",
       "      <td>305</td>\n",
       "    </tr>\n",
       "    <tr>\n",
       "      <th>Shen</th>\n",
       "      <td>282</td>\n",
       "    </tr>\n",
       "    <tr>\n",
       "      <th>Rumble</th>\n",
       "      <td>222</td>\n",
       "    </tr>\n",
       "    <tr>\n",
       "      <th>Nautilus</th>\n",
       "      <td>186</td>\n",
       "    </tr>\n",
       "    <tr>\n",
       "      <th>...</th>\n",
       "      <td>...</td>\n",
       "    </tr>\n",
       "    <tr>\n",
       "      <th>Teemo</th>\n",
       "      <td>0</td>\n",
       "    </tr>\n",
       "    <tr>\n",
       "      <th>Kayn</th>\n",
       "      <td>0</td>\n",
       "    </tr>\n",
       "    <tr>\n",
       "      <th>Khazix</th>\n",
       "      <td>0</td>\n",
       "    </tr>\n",
       "    <tr>\n",
       "      <th>MonkeyKing</th>\n",
       "      <td>0</td>\n",
       "    </tr>\n",
       "    <tr>\n",
       "      <th>MasterYi</th>\n",
       "      <td>0</td>\n",
       "    </tr>\n",
       "  </tbody>\n",
       "</table>\n",
       "<p>81 rows × 1 columns</p>\n",
       "</div>"
      ],
      "text/plain": [
       "             rResult\n",
       "redTopChamp         \n",
       "Maokai           411\n",
       "Gnar             305\n",
       "Shen             282\n",
       "Rumble           222\n",
       "Nautilus         186\n",
       "...              ...\n",
       "Teemo              0\n",
       "Kayn               0\n",
       "Khazix             0\n",
       "MonkeyKing         0\n",
       "MasterYi           0\n",
       "\n",
       "[81 rows x 1 columns]"
      ]
     },
     "execution_count": 23,
     "metadata": {},
     "output_type": "execute_result"
    }
   ],
   "source": [
    "redTopChamp_sorted = df[['redTopChamp','rResult']].groupby(['redTopChamp']).agg('sum').sort_values(by='rResult',ascending=False)\n",
    "redTopChamp_sorted"
   ]
  },
  {
   "cell_type": "code",
   "execution_count": 24,
   "id": "e5494d4c",
   "metadata": {},
   "outputs": [
    {
     "data": {
      "text/plain": [
       "array(['Gnar', 'Irelia', 'Sion', 'Renekton', 'Rumble', 'Kassadin', 'Lulu',\n",
       "       'Maokai', 'Malphite', 'Lissandra', 'Swain', 'DrMundo', 'Hecarim',\n",
       "       'Morgana', 'Kennen', 'JarvanIV', 'Gragas', 'Yasuo', 'Ryze', 'Fizz',\n",
       "       'Ekko', 'Vladimir', 'Shen', 'Nautilus', 'Olaf', 'Shyvana',\n",
       "       'Gangplank', 'Jax', 'Chogath', 'Fiora', 'Trundle', 'Graves',\n",
       "       'Poppy', 'Quinn', 'Pantheon', 'Kayle', 'TahmKench', 'Riven',\n",
       "       'Illaoi', 'Teemo', 'Singed', 'Jayce', 'Camille', 'Kled', 'Galio',\n",
       "       'Lucian', 'Urgot', 'Azir', 'Yorick', 'LeeSin', 'Diana', 'Zac',\n",
       "       'Rammus', 'Taliyah', 'Talon', 'Warwick', 'Aatrox', 'Mordekaiser',\n",
       "       'Akali', 'Shaco', 'Rengar', 'RekSai', 'Karma', 'Malzahar',\n",
       "       'Sejuani', 'Cassiopeia', 'Zed', 'Darius', 'Heimerdinger', 'Ashe',\n",
       "       'Khazix', 'Nasus', 'MasterYi', 'Tryndamere', 'MonkeyKing',\n",
       "       'XinZhao', 'Kayn', 'Nidalee', 'Ornn', 'Viktor', 'Annie'],\n",
       "      dtype=object)"
      ]
     },
     "execution_count": 24,
     "metadata": {},
     "output_type": "execute_result"
    }
   ],
   "source": [
    "df['redTopChamp'].unique()"
   ]
  },
  {
   "cell_type": "code",
   "execution_count": 25,
   "id": "57e90a8c",
   "metadata": {},
   "outputs": [
    {
     "name": "stdout",
     "output_type": "stream",
     "text": [
      "['Aatrox', 'Akali', 'Annie', 'Ashe', 'Azir', 'Camille', 'Cassiopeia', 'Chogath', 'Darius', 'Diana', 'DrMundo', 'Ekko', 'Fiora', 'Fizz', 'Galio', 'Gangplank', 'Gnar', 'Gragas', 'Graves', 'Hecarim', 'Heimerdinger', 'Illaoi', 'Irelia', 'JarvanIV', 'Jax', 'Jayce', 'Karma', 'Kassadin', 'Kayle', 'Kayn', 'Kennen', 'Khazix', 'Kled', 'LeeSin', 'Lissandra', 'Lucian', 'Lulu', 'Malphite', 'Malzahar', 'Maokai', 'MasterYi', 'MonkeyKing', 'Mordekaiser', 'Morgana', 'Nasus', 'Nautilus', 'Nidalee', 'Olaf', 'Ornn', 'Pantheon', 'Poppy', 'Quinn', 'Rammus', 'RekSai', 'Renekton', 'Rengar', 'Riven', 'Rumble', 'Ryze', 'Sejuani', 'Shaco', 'Shen', 'Shyvana', 'Singed', 'Sion', 'Swain', 'TahmKench', 'Taliyah', 'Talon', 'Teemo', 'Trundle', 'Tryndamere', 'Urgot', 'Viktor', 'Vladimir', 'Warwick', 'XinZhao', 'Yasuo', 'Yorick', 'Zac', 'Zed']\n"
     ]
    }
   ],
   "source": [
    "sortedbt = df['redTopChamp'].unique()\n",
    "#sorting champions top lane champions to check if all names are correct \n",
    "print(sorted(sortedbt))\n",
    "#here we can find 'MonkeyKing' - there is no such champion so it needs to be changed to Wukong"
   ]
  },
  {
   "cell_type": "code",
   "execution_count": 26,
   "id": "b0f29773",
   "metadata": {},
   "outputs": [],
   "source": [
    "df = df.replace('MonkeyKing', 'Wukong')"
   ]
  },
  {
   "cell_type": "code",
   "execution_count": 27,
   "id": "2233a1c2",
   "metadata": {
    "scrolled": true
   },
   "outputs": [
    {
     "name": "stdout",
     "output_type": "stream",
     "text": [
      "['Aatrox', 'Akali', 'Annie', 'Ashe', 'Azir', 'Camille', 'Cassiopeia', 'Chogath', 'Darius', 'Diana', 'DrMundo', 'Ekko', 'Fiora', 'Fizz', 'Galio', 'Gangplank', 'Gnar', 'Gragas', 'Graves', 'Hecarim', 'Heimerdinger', 'Illaoi', 'Irelia', 'JarvanIV', 'Jax', 'Jayce', 'Karma', 'Kassadin', 'Kayle', 'Kayn', 'Kennen', 'Khazix', 'Kled', 'LeeSin', 'Lissandra', 'Lucian', 'Lulu', 'Malphite', 'Malzahar', 'Maokai', 'MasterYi', 'MonkeyKing', 'Mordekaiser', 'Morgana', 'Nasus', 'Nautilus', 'Nidalee', 'Olaf', 'Ornn', 'Pantheon', 'Poppy', 'Quinn', 'Rammus', 'RekSai', 'Renekton', 'Rengar', 'Riven', 'Rumble', 'Ryze', 'Sejuani', 'Shaco', 'Shen', 'Shyvana', 'Singed', 'Sion', 'Swain', 'TahmKench', 'Taliyah', 'Talon', 'Teemo', 'Trundle', 'Tryndamere', 'Urgot', 'Viktor', 'Vladimir', 'Warwick', 'XinZhao', 'Yasuo', 'Yorick', 'Zac', 'Zed']\n"
     ]
    }
   ],
   "source": [
    "print(sorted(sortedbt))"
   ]
  },
  {
   "cell_type": "code",
   "execution_count": 28,
   "id": "8a618dc1",
   "metadata": {
    "scrolled": true
   },
   "outputs": [
    {
     "data": {
      "text/plain": [
       "rResult    12\n",
       "dtype: int64"
      ]
     },
     "execution_count": 28,
     "metadata": {},
     "output_type": "execute_result"
    }
   ],
   "source": [
    "redTopChamp_sorted[redTopChamp_sorted==0].count()\n",
    "#From red side, there are 12 champions that haven't won any match"
   ]
  },
  {
   "cell_type": "code",
   "execution_count": 29,
   "id": "643693ca",
   "metadata": {},
   "outputs": [
    {
     "data": {
      "text/plain": [
       "5833"
      ]
     },
     "execution_count": 29,
     "metadata": {},
     "output_type": "execute_result"
    }
   ],
   "source": [
    "#checking pareto rule where 20% makes 80% of work\n",
    "top20prc = int(0.2 * red_top_pics['rResult'].count())\n",
    "red_top_most_picks = df.groupby([\"redTopChamp\"]).size().nlargest(top20prc)\n",
    "red_top_most_picks.sum()"
   ]
  },
  {
   "cell_type": "code",
   "execution_count": 30,
   "id": "6ac33133",
   "metadata": {},
   "outputs": [
    {
     "data": {
      "text/html": [
       "<div>\n",
       "<style scoped>\n",
       "    .dataframe tbody tr th:only-of-type {\n",
       "        vertical-align: middle;\n",
       "    }\n",
       "\n",
       "    .dataframe tbody tr th {\n",
       "        vertical-align: top;\n",
       "    }\n",
       "\n",
       "    .dataframe thead th {\n",
       "        text-align: right;\n",
       "    }\n",
       "</style>\n",
       "<table border=\"1\" class=\"dataframe\">\n",
       "  <thead>\n",
       "    <tr style=\"text-align: right;\">\n",
       "      <th></th>\n",
       "      <th>Red Top Picks</th>\n",
       "    </tr>\n",
       "    <tr>\n",
       "      <th>redTopChamp</th>\n",
       "      <th></th>\n",
       "    </tr>\n",
       "  </thead>\n",
       "  <tbody>\n",
       "    <tr>\n",
       "      <th>Maokai</th>\n",
       "      <td>880</td>\n",
       "    </tr>\n",
       "    <tr>\n",
       "      <th>Gnar</th>\n",
       "      <td>665</td>\n",
       "    </tr>\n",
       "    <tr>\n",
       "      <th>Shen</th>\n",
       "      <td>604</td>\n",
       "    </tr>\n",
       "    <tr>\n",
       "      <th>Rumble</th>\n",
       "      <td>526</td>\n",
       "    </tr>\n",
       "    <tr>\n",
       "      <th>Nautilus</th>\n",
       "      <td>396</td>\n",
       "    </tr>\n",
       "    <tr>\n",
       "      <th>Poppy</th>\n",
       "      <td>384</td>\n",
       "    </tr>\n",
       "    <tr>\n",
       "      <th>Renekton</th>\n",
       "      <td>326</td>\n",
       "    </tr>\n",
       "    <tr>\n",
       "      <th>Trundle</th>\n",
       "      <td>324</td>\n",
       "    </tr>\n",
       "    <tr>\n",
       "      <th>Fiora</th>\n",
       "      <td>284</td>\n",
       "    </tr>\n",
       "    <tr>\n",
       "      <th>JarvanIV</th>\n",
       "      <td>232</td>\n",
       "    </tr>\n",
       "    <tr>\n",
       "      <th>Ekko</th>\n",
       "      <td>229</td>\n",
       "    </tr>\n",
       "    <tr>\n",
       "      <th>Irelia</th>\n",
       "      <td>229</td>\n",
       "    </tr>\n",
       "    <tr>\n",
       "      <th>Gragas</th>\n",
       "      <td>226</td>\n",
       "    </tr>\n",
       "    <tr>\n",
       "      <th>Gangplank</th>\n",
       "      <td>213</td>\n",
       "    </tr>\n",
       "    <tr>\n",
       "      <th>Camille</th>\n",
       "      <td>166</td>\n",
       "    </tr>\n",
       "    <tr>\n",
       "      <th>Kennen</th>\n",
       "      <td>149</td>\n",
       "    </tr>\n",
       "  </tbody>\n",
       "</table>\n",
       "</div>"
      ],
      "text/plain": [
       "             Red Top Picks\n",
       "redTopChamp               \n",
       "Maokai                 880\n",
       "Gnar                   665\n",
       "Shen                   604\n",
       "Rumble                 526\n",
       "Nautilus               396\n",
       "Poppy                  384\n",
       "Renekton               326\n",
       "Trundle                324\n",
       "Fiora                  284\n",
       "JarvanIV               232\n",
       "Ekko                   229\n",
       "Irelia                 229\n",
       "Gragas                 226\n",
       "Gangplank              213\n",
       "Camille                166\n",
       "Kennen                 149"
      ]
     },
     "execution_count": 30,
     "metadata": {},
     "output_type": "execute_result"
    },
    {
     "data": {
      "image/png": "[encoded data removed]",
      "text/plain": [
       "<Figure size 640x480 with 1 Axes>"
      ]
     },
     "metadata": {},
     "output_type": "display_data"
    }
   ],
   "source": [
    "df_red_top_champions = pd.DataFrame({\"Red Top Picks\":red_top_most_picks})\n",
    "df_red_top_champions.plot.bar(color={\"red\"})\n",
    "df_red_top_champions"
   ]
  },
  {
   "cell_type": "code",
   "execution_count": 31,
   "id": "465753b4",
   "metadata": {},
   "outputs": [
    {
     "data": {
      "text/plain": [
       "Blue Top Picks    15\n",
       "Red Top Picks     16\n",
       "dtype: int64"
      ]
     },
     "execution_count": 31,
     "metadata": {},
     "output_type": "execute_result"
    },
    {
     "data": {
      "image/png": "[encoded data removed]",
      "text/plain": [
       "<Figure size 640x480 with 1 Axes>"
      ]
     },
     "metadata": {},
     "output_type": "display_data"
    }
   ],
   "source": [
    "df_top_champions = pd.DataFrame({\"Blue Top Picks\":blue_top_most_picks,\"Red Top Picks\":red_top_most_picks})\n",
    "df_top_champions.plot.bar(color={\"blue\",\"red\"})\n",
    "df_top_champions.count()"
   ]
  },
  {
   "cell_type": "markdown",
   "id": "27b87a07",
   "metadata": {},
   "source": [
    "Conclusions from analysis top lane picks:\n",
    "\n",
    "-There was less diversity on the blue side. However, this translated into more matches being won\n",
    "-The pareto principle is confirmed where 20% of champions translates into 80% of games won\n",
    "-Need to analysis top gold differences between teams to get more conlusions about this lane"
   ]
  },
  {
   "cell_type": "markdown",
   "id": "11206eec",
   "metadata": {},
   "source": [
    "# Middle Lane Analysis"
   ]
  },
  {
   "cell_type": "code",
   "execution_count": 32,
   "id": "b3dbc813",
   "metadata": {},
   "outputs": [
    {
     "data": {
      "text/html": [
       "<div>\n",
       "<style scoped>\n",
       "    .dataframe tbody tr th:only-of-type {\n",
       "        vertical-align: middle;\n",
       "    }\n",
       "\n",
       "    .dataframe tbody tr th {\n",
       "        vertical-align: top;\n",
       "    }\n",
       "\n",
       "    .dataframe thead th {\n",
       "        text-align: right;\n",
       "    }\n",
       "</style>\n",
       "<table border=\"1\" class=\"dataframe\">\n",
       "  <thead>\n",
       "    <tr style=\"text-align: right;\">\n",
       "      <th></th>\n",
       "      <th>bResult</th>\n",
       "    </tr>\n",
       "    <tr>\n",
       "      <th>blueMiddleChamp</th>\n",
       "      <th></th>\n",
       "    </tr>\n",
       "  </thead>\n",
       "  <tbody>\n",
       "    <tr>\n",
       "      <th>Orianna</th>\n",
       "      <td>341</td>\n",
       "    </tr>\n",
       "    <tr>\n",
       "      <th>Syndra</th>\n",
       "      <td>299</td>\n",
       "    </tr>\n",
       "    <tr>\n",
       "      <th>Viktor</th>\n",
       "      <td>298</td>\n",
       "    </tr>\n",
       "    <tr>\n",
       "      <th>Azir</th>\n",
       "      <td>285</td>\n",
       "    </tr>\n",
       "    <tr>\n",
       "      <th>Taliyah</th>\n",
       "      <td>236</td>\n",
       "    </tr>\n",
       "    <tr>\n",
       "      <th>...</th>\n",
       "      <td>...</td>\n",
       "    </tr>\n",
       "    <tr>\n",
       "      <th>Kayle</th>\n",
       "      <td>0</td>\n",
       "    </tr>\n",
       "    <tr>\n",
       "      <th>LeeSin</th>\n",
       "      <td>0</td>\n",
       "    </tr>\n",
       "    <tr>\n",
       "      <th>Rumble</th>\n",
       "      <td>0</td>\n",
       "    </tr>\n",
       "    <tr>\n",
       "      <th>Pantheon</th>\n",
       "      <td>0</td>\n",
       "    </tr>\n",
       "    <tr>\n",
       "      <th>Draven</th>\n",
       "      <td>0</td>\n",
       "    </tr>\n",
       "  </tbody>\n",
       "</table>\n",
       "<p>71 rows × 1 columns</p>\n",
       "</div>"
      ],
      "text/plain": [
       "                 bResult\n",
       "blueMiddleChamp         \n",
       "Orianna              341\n",
       "Syndra               299\n",
       "Viktor               298\n",
       "Azir                 285\n",
       "Taliyah              236\n",
       "...                  ...\n",
       "Kayle                  0\n",
       "LeeSin                 0\n",
       "Rumble                 0\n",
       "Pantheon               0\n",
       "Draven                 0\n",
       "\n",
       "[71 rows x 1 columns]"
      ]
     },
     "execution_count": 32,
     "metadata": {},
     "output_type": "execute_result"
    }
   ],
   "source": [
    "#Blue side\n",
    "blue_middle_picks = df[['blueMiddleChamp', 'bResult']].groupby('blueMiddleChamp').sum().sort_values(by='bResult', ascending=False)\n",
    "blue_middle_picks"
   ]
  },
  {
   "cell_type": "code",
   "execution_count": 33,
   "id": "2d997936",
   "metadata": {},
   "outputs": [
    {
     "data": {
      "text/plain": [
       "blueMiddleChamp\n",
       "Orianna       643\n",
       "Viktor        621\n",
       "Syndra        526\n",
       "Azir          489\n",
       "Corki         446\n",
       "Leblanc       421\n",
       "Cassiopeia    391\n",
       "Taliyah       388\n",
       "Ryze          366\n",
       "Ahri          334\n",
       "Vladimir      311\n",
       "Lulu          225\n",
       "Lissandra     199\n",
       "Zed           183\n",
       "dtype: int64"
      ]
     },
     "execution_count": 33,
     "metadata": {},
     "output_type": "execute_result"
    }
   ],
   "source": [
    "#checking pareto rule where 20% makes 80% of work\n",
    "top20prc = int(0.2 * int(blue_middle_picks.count()))\n",
    "blue_middle_picks = df.groupby([\"blueMiddleChamp\"]).size().nlargest(top20prc)\n",
    "blue_middle_picks"
   ]
  },
  {
   "cell_type": "code",
   "execution_count": 34,
   "id": "7921e921",
   "metadata": {},
   "outputs": [
    {
     "data": {
      "text/plain": [
       "14"
      ]
     },
     "execution_count": 34,
     "metadata": {},
     "output_type": "execute_result"
    }
   ],
   "source": [
    "top20prc"
   ]
  },
  {
   "cell_type": "code",
   "execution_count": 35,
   "id": "726a433c",
   "metadata": {},
   "outputs": [
    {
     "data": {
      "text/plain": [
       "14"
      ]
     },
     "execution_count": 35,
     "metadata": {},
     "output_type": "execute_result"
    }
   ],
   "source": [
    "int(blue_middle_picks.count())"
   ]
  },
  {
   "cell_type": "code",
   "execution_count": null,
   "id": "626ff301",
   "metadata": {},
   "outputs": [],
   "source": []
  }
 ],
 "metadata": {
  "kernelspec": {
   "display_name": "Python 3 (ipykernel)",
   "language": "python",
   "name": "python3"
  },
  "language_info": {
   "codemirror_mode": {
    "name": "ipython",
    "version": 3
   },
   "file_extension": ".py",
   "mimetype": "text/x-python",
   "name": "python",
   "nbconvert_exporter": "python",
   "pygments_lexer": "ipython3",
   "version": "3.10.9"
  }
 },
 "nbformat": 4,
 "nbformat_minor": 5
}
